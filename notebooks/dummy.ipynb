{
 "cells": [
  {
   "cell_type": "code",
   "execution_count": null,
   "id": "746528bf-2462-4462-8aed-135896b68000",
   "metadata": {},
   "outputs": [],
   "source": [
    "import yara"
   ]
  },
  {
   "cell_type": "code",
   "execution_count": null,
   "id": "50c83fbf-044e-47fc-9fa3-e7776b9f3f88",
   "metadata": {},
   "outputs": [],
   "source": [
    "yara_rules = None\n",
    "input_file_path = \"/home/user/rules/dummy.yar\"\n",
    "\n",
    "with open(input_file_path, \"r\") as input_file:\n",
    "    yara_rules = input_file.read()"
   ]
  },
  {
   "cell_type": "code",
   "execution_count": null,
   "id": "9e58116b-9e95-4c19-bdf3-0e085b8848d4",
   "metadata": {},
   "outputs": [],
   "source": [
    "rules = yara.compile(source=yara_rules)"
   ]
  }
 ],
 "metadata": {
  "kernelspec": {
   "display_name": "Python 3 (ipykernel)",
   "language": "python",
   "name": "python3"
  },
  "language_info": {
   "codemirror_mode": {
    "name": "ipython",
    "version": 3
   },
   "file_extension": ".py",
   "mimetype": "text/x-python",
   "name": "python",
   "nbconvert_exporter": "python",
   "pygments_lexer": "ipython3",
   "version": "3.12.3"
  }
 },
 "nbformat": 4,
 "nbformat_minor": 5
}
